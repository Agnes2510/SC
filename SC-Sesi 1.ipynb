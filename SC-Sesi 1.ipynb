{
  "nbformat": 4,
  "nbformat_minor": 0,
  "metadata": {
    "colab": {
      "provenance": [],
      "authorship_tag": "ABX9TyPL3hZZzCs0mD2DCuJNTfep",
      "include_colab_link": true
    },
    "kernelspec": {
      "name": "python3",
      "display_name": "Python 3"
    },
    "language_info": {
      "name": "python"
    }
  },
  "cells": [
    {
      "cell_type": "markdown",
      "metadata": {
        "id": "view-in-github",
        "colab_type": "text"
      },
      "source": [
        "<a href=\"https://colab.research.google.com/github/Agnes2510/SC/blob/main/SC-Sesi%201.ipynb\" target=\"_parent\"><img src=\"https://colab.research.google.com/assets/colab-badge.svg\" alt=\"Open In Colab\"/></a>"
      ]
    },
    {
      "cell_type": "code",
      "execution_count": 15,
      "metadata": {
        "id": "mX9BnDSx58pw",
        "colab": {
          "base_uri": "https://localhost:8080/"
        },
        "outputId": "0bbb801c-4b30-4f45-caec-0beb74f3d258"
      },
      "outputs": [
        {
          "output_type": "stream",
          "name": "stdout",
          "text": [
            "haloo\n"
          ]
        }
      ],
      "source": [
        "print (\"haloo\")"
      ]
    },
    {
      "cell_type": "code",
      "source": [
        "import time"
      ],
      "metadata": {
        "id": "R2A0DWrTH4cL"
      },
      "execution_count": 18,
      "outputs": []
    },
    {
      "cell_type": "code",
      "source": [
        "print(time.ctime())"
      ],
      "metadata": {
        "colab": {
          "base_uri": "https://localhost:8080/"
        },
        "id": "n2dZCjWRHW20",
        "outputId": "0e154013-3d9d-4d47-a556-9ab7364ff9ac"
      },
      "execution_count": 19,
      "outputs": [
        {
          "output_type": "stream",
          "name": "stdout",
          "text": [
            "Fri Feb  7 01:29:41 2025\n"
          ]
        }
      ]
    },
    {
      "cell_type": "code",
      "source": [
        "#print bisa dengna langsung menulisan variabel atau print ([variabel])\n",
        "\n",
        "z = \"hello\"\n",
        "y = 20\n",
        "c = 30.8\n",
        "f = [\"apple\", \"berry\"]\n",
        "\n",
        "z, y, c, f\n",
        "print (z, y, c, f)"
      ],
      "metadata": {
        "colab": {
          "base_uri": "https://localhost:8080/"
        },
        "id": "QdncHaT3H6WZ",
        "outputId": "a6514f09-941a-4522-f27d-e0a2c8ee0195"
      },
      "execution_count": 20,
      "outputs": [
        {
          "output_type": "stream",
          "name": "stdout",
          "text": [
            "hello 20 30.8 ['apple', 'berry']\n"
          ]
        }
      ]
    },
    {
      "cell_type": "code",
      "source": [
        "#casting = mengubah tipe data\n",
        "\n",
        "o = int(1)\n",
        "y = int(2.8)\n",
        "z = int (\"3\")\n",
        "j = str(20)\n",
        "\n",
        "print (o, y, z, j)"
      ],
      "metadata": {
        "colab": {
          "base_uri": "https://localhost:8080/"
        },
        "id": "wnLeVgyeItEd",
        "outputId": "7343cce7-35b9-4235-ebb1-700727a25d96"
      },
      "execution_count": 21,
      "outputs": [
        {
          "output_type": "stream",
          "name": "stdout",
          "text": [
            "1 2 3 20\n"
          ]
        }
      ]
    },
    {
      "cell_type": "code",
      "source": [
        "#menggabungkan 2 string\n",
        "\n",
        "a = \"HELLO\"\n",
        "b = \" world\"\n",
        "c = a + b\n",
        "print (c)\n"
      ],
      "metadata": {
        "colab": {
          "base_uri": "https://localhost:8080/"
        },
        "id": "HwYCJYjKI6pi",
        "outputId": "5d68c310-9572-41fc-e675-c37a9e5cd388"
      },
      "execution_count": 22,
      "outputs": [
        {
          "output_type": "stream",
          "name": "stdout",
          "text": [
            "HELLO world\n"
          ]
        }
      ]
    },
    {
      "cell_type": "code",
      "source": [
        "#mengambil 1 huruf menggunakan index (array of)\n",
        "#menghitung total array\n",
        "\n",
        "a = \"Hello World\"\n",
        "print (a[1])\n",
        "\n",
        "print (len(a))\n"
      ],
      "metadata": {
        "colab": {
          "base_uri": "https://localhost:8080/"
        },
        "id": "CKRnecYPJOkn",
        "outputId": "603ade5e-af89-4c22-cc0f-995657934ce6"
      },
      "execution_count": 23,
      "outputs": [
        {
          "output_type": "stream",
          "name": "stdout",
          "text": [
            "e\n",
            "11\n"
          ]
        }
      ]
    },
    {
      "cell_type": "code",
      "source": [
        "#mengambil beberapa huruf menggunakan index (array of)\n",
        "#dengan cara print (variabel[batas awal : batas akhir])\n",
        "\n",
        "b = \"BINUS Univ\"\n",
        "print (b[2 : 5])\n",
        "\n",
        "c =  \"BINUS Univ\"\n",
        "print (b[:5])\n",
        "\n",
        "d = \"BINUS Univ\"\n",
        "print (b[2:])"
      ],
      "metadata": {
        "colab": {
          "base_uri": "https://localhost:8080/"
        },
        "id": "LSRAjArjKFTg",
        "outputId": "45f05a1f-a65a-42d6-81c5-904220d5fde8"
      },
      "execution_count": 24,
      "outputs": [
        {
          "output_type": "stream",
          "name": "stdout",
          "text": [
            "NUS\n",
            "BINUS\n",
            "NUS Univ\n"
          ]
        }
      ]
    },
    {
      "cell_type": "code",
      "source": [
        "#mengubah semua huruf kecil menjadi huruf besar\n",
        "a = \"Hello\"\n",
        "print (a.upper())\n",
        "\n",
        "#mengubah semua huruf besar menjadi huruf kecil\n",
        "b = \"Hello\"\n",
        "print(b.lower())\n",
        "\n",
        "#mengganti satu huruf\n",
        "c=\"Hello\"\n",
        "print(a.replace(\"H\", \"J\"))"
      ],
      "metadata": {
        "colab": {
          "base_uri": "https://localhost:8080/"
        },
        "id": "7ANGT5MeZWq9",
        "outputId": "1fcda9e7-e86c-44d5-8469-2d08368e43c6"
      },
      "execution_count": 25,
      "outputs": [
        {
          "output_type": "stream",
          "name": "stdout",
          "text": [
            "HELLO\n",
            "hello\n",
            "Jello\n"
          ]
        }
      ]
    },
    {
      "cell_type": "code",
      "source": [
        "#print string gabung integer\n",
        "\n",
        "nama = \"Natasha\"\n",
        "x = 19\n",
        "string = \"nama saya {}, umur saya {}\"\n",
        "print (string.format(nama, x))"
      ],
      "metadata": {
        "colab": {
          "base_uri": "https://localhost:8080/"
        },
        "id": "swscDjRqZsHd",
        "outputId": "0b0559ef-a158-4421-d327-06087c625e8d"
      },
      "execution_count": 26,
      "outputs": [
        {
          "output_type": "stream",
          "name": "stdout",
          "text": [
            "nama saya Natasha, umur saya 19\n"
          ]
        }
      ]
    },
    {
      "cell_type": "code",
      "source": [
        "#memberikan penomoran untuk setiap index yang terdapat pada string dengan perulangan for\n",
        "\n",
        "nama = \"Grace\"\n",
        "for i in enumerate(nama):\n",
        "  print(i)"
      ],
      "metadata": {
        "colab": {
          "base_uri": "https://localhost:8080/"
        },
        "id": "GC_kGV01aZdl",
        "outputId": "ab3b0309-35bc-4536-a900-cbb14251a552"
      },
      "execution_count": 27,
      "outputs": [
        {
          "output_type": "stream",
          "name": "stdout",
          "text": [
            "(0, 'G')\n",
            "(1, 'r')\n",
            "(2, 'a')\n",
            "(3, 'c')\n",
            "(4, 'e')\n"
          ]
        }
      ]
    },
    {
      "cell_type": "code",
      "source": [
        "#def = membuat function baru\n",
        "\n",
        "def perbandingan (a,b):\n",
        "  #perbandingan (if, elif, else)\n",
        "  if a > b:\n",
        "    print (\"a lebih besar dari b\")\n",
        "  elif a < b:\n",
        "    print (\"a kurang dari b\")\n",
        "  else:\n",
        "    print (\"a = b\")"
      ],
      "metadata": {
        "id": "asoUUczramAp"
      },
      "execution_count": 28,
      "outputs": []
    },
    {
      "cell_type": "code",
      "source": [
        "#mencoba function perbandingan\n",
        "\n",
        "perbandingan (4, 8)"
      ],
      "metadata": {
        "colab": {
          "base_uri": "https://localhost:8080/"
        },
        "id": "iUXNfgZia2YE",
        "outputId": "f7e573b1-9373-4be2-eb4f-a13b1c12bed3"
      },
      "execution_count": 29,
      "outputs": [
        {
          "output_type": "stream",
          "name": "stdout",
          "text": [
            "a kurang dari b\n"
          ]
        }
      ]
    },
    {
      "cell_type": "code",
      "source": [
        "#perulangan menggunakan while\n",
        "i = 1\n",
        "while i < 6:\n",
        "  print (i)\n",
        "  i += 1"
      ],
      "metadata": {
        "colab": {
          "base_uri": "https://localhost:8080/"
        },
        "id": "qAmCex-ta8kV",
        "outputId": "f5e04dc8-9749-4c20-d8b4-93c837db1f7b"
      },
      "execution_count": 30,
      "outputs": [
        {
          "output_type": "stream",
          "name": "stdout",
          "text": [
            "1\n",
            "2\n",
            "3\n",
            "4\n",
            "5\n"
          ]
        }
      ]
    },
    {
      "cell_type": "code",
      "source": [
        "#perulangan menggunakan for\n",
        "\n",
        "i = 7\n",
        "for i in range(0,6):\n",
        "  print(i)"
      ],
      "metadata": {
        "colab": {
          "base_uri": "https://localhost:8080/"
        },
        "id": "ocw4ezFDbEUj",
        "outputId": "df85e3d9-269d-4da7-d1c3-e990b7c30f85"
      },
      "execution_count": 31,
      "outputs": [
        {
          "output_type": "stream",
          "name": "stdout",
          "text": [
            "0\n",
            "1\n",
            "2\n",
            "3\n",
            "4\n",
            "5\n"
          ]
        }
      ]
    },
    {
      "cell_type": "code",
      "source": [
        "i = 2\n",
        "while i <= 40:\n",
        "  if i %2 == 0:\n",
        "    print (i, \"genap\")\n",
        "  elif i %2 == 1:\n",
        "    print (i, \"ganjil\")\n",
        "  i += 1"
      ],
      "metadata": {
        "colab": {
          "base_uri": "https://localhost:8080/"
        },
        "id": "pOKoObUYbL7X",
        "outputId": "0bff350c-0bd5-40a0-d00b-16767ae5c895"
      },
      "execution_count": 32,
      "outputs": [
        {
          "output_type": "stream",
          "name": "stdout",
          "text": [
            "2 genap\n",
            "3 ganjil\n",
            "4 genap\n",
            "5 ganjil\n",
            "6 genap\n",
            "7 ganjil\n",
            "8 genap\n",
            "9 ganjil\n",
            "10 genap\n",
            "11 ganjil\n",
            "12 genap\n",
            "13 ganjil\n",
            "14 genap\n",
            "15 ganjil\n",
            "16 genap\n",
            "17 ganjil\n",
            "18 genap\n",
            "19 ganjil\n",
            "20 genap\n",
            "21 ganjil\n",
            "22 genap\n",
            "23 ganjil\n",
            "24 genap\n",
            "25 ganjil\n",
            "26 genap\n",
            "27 ganjil\n",
            "28 genap\n",
            "29 ganjil\n",
            "30 genap\n",
            "31 ganjil\n",
            "32 genap\n",
            "33 ganjil\n",
            "34 genap\n",
            "35 ganjil\n",
            "36 genap\n",
            "37 ganjil\n",
            "38 genap\n",
            "39 ganjil\n",
            "40 genap\n"
          ]
        }
      ]
    },
    {
      "cell_type": "code",
      "source": [
        "for i in range(2, 41):\n",
        "  if i %2 == 0:\n",
        "    print (i, \"genap\")\n",
        "  elif i %2 == 1:\n",
        "    print (i, \"ganjil\")"
      ],
      "metadata": {
        "colab": {
          "base_uri": "https://localhost:8080/"
        },
        "id": "JxnNNBw5beJY",
        "outputId": "3c26b57d-1fa5-4344-c5da-63d2bf542ad6"
      },
      "execution_count": 33,
      "outputs": [
        {
          "output_type": "stream",
          "name": "stdout",
          "text": [
            "2 genap\n",
            "3 ganjil\n",
            "4 genap\n",
            "5 ganjil\n",
            "6 genap\n",
            "7 ganjil\n",
            "8 genap\n",
            "9 ganjil\n",
            "10 genap\n",
            "11 ganjil\n",
            "12 genap\n",
            "13 ganjil\n",
            "14 genap\n",
            "15 ganjil\n",
            "16 genap\n",
            "17 ganjil\n",
            "18 genap\n",
            "19 ganjil\n",
            "20 genap\n",
            "21 ganjil\n",
            "22 genap\n",
            "23 ganjil\n",
            "24 genap\n",
            "25 ganjil\n",
            "26 genap\n",
            "27 ganjil\n",
            "28 genap\n",
            "29 ganjil\n",
            "30 genap\n",
            "31 ganjil\n",
            "32 genap\n",
            "33 ganjil\n",
            "34 genap\n",
            "35 ganjil\n",
            "36 genap\n",
            "37 ganjil\n",
            "38 genap\n",
            "39 ganjil\n",
            "40 genap\n"
          ]
        }
      ]
    },
    {
      "cell_type": "code",
      "source": [
        "#mengakese library numpy, diberikan inisial \"ny\"\n",
        "#sehingga cukup menuliskan \"ny\" untuk mengakses library numpy\n",
        "import numpy as np"
      ],
      "metadata": {
        "id": "RFWS2owmbmE8"
      },
      "execution_count": 10,
      "outputs": []
    },
    {
      "cell_type": "code",
      "source": [
        "y = np.array ([[1,2,3],\n",
        "        [4,5,6]])\n",
        "x = np.array([[6,5,4],\n",
        "              [3,2,1]])"
      ],
      "metadata": {
        "id": "YRF8f3qgbpeY"
      },
      "execution_count": 11,
      "outputs": []
    },
    {
      "cell_type": "code",
      "source": [
        "x + y"
      ],
      "metadata": {
        "colab": {
          "base_uri": "https://localhost:8080/"
        },
        "id": "Hu-hQzCVb3wg",
        "outputId": "2b473dfb-6aa1-4cf7-8bac-0c5acdc6d487"
      },
      "execution_count": 12,
      "outputs": [
        {
          "output_type": "execute_result",
          "data": {
            "text/plain": [
              "array([[7, 7, 7],\n",
              "       [7, 7, 7]])"
            ]
          },
          "metadata": {},
          "execution_count": 12
        }
      ]
    },
    {
      "cell_type": "code",
      "source": [
        "data = np.array ([10, 9, 8, 7, 6, 5])\n",
        "\n",
        "print (\"Rata-rata:\", np.mean(data))\n",
        "print (\"Max: \", np.max(data))\n",
        "print (\"Min: \", np.min(data))\n",
        "print (\"Standar Deviasi: \", np.std(data))"
      ],
      "metadata": {
        "colab": {
          "base_uri": "https://localhost:8080/"
        },
        "id": "Ecr6xi1NcFeF",
        "outputId": "1f5c1351-09d9-4d99-a903-cee83e896d72"
      },
      "execution_count": 14,
      "outputs": [
        {
          "output_type": "stream",
          "name": "stdout",
          "text": [
            "Rata-rata: 7.5\n",
            "Max:  10\n",
            "Min:  5\n",
            "Standar Deviasi:  1.707825127659933\n"
          ]
        }
      ]
    },
    {
      "cell_type": "code",
      "source": [
        "def login():\n",
        "  Username = \"Agnes Giovanny\"\n",
        "  Password = \"Admin123\"\n",
        "\n",
        "  while True:\n",
        "      username = input(\"Masukkan username anda : \")\n",
        "      password = input(\"Masukkan password anda : \")\n",
        "\n",
        "      if (username == Username) and (password == Password):\n",
        "        print (f\"Login berhasil, Selamat datang {username} \\n\")\n",
        "        break\n",
        "      else:\n",
        "        print (\"Login gagal\")\n"
      ],
      "metadata": {
        "id": "Wg52y5dKLnar"
      },
      "execution_count": 8,
      "outputs": []
    },
    {
      "cell_type": "code",
      "source": [
        "def nilai (UAS, UTS, ASG):\n",
        "  return (0.5 * UAS) + (0.3 * UTS) + (0.2 * ASG)\n"
      ],
      "metadata": {
        "id": "VfHoY8y-VMP4"
      },
      "execution_count": 7,
      "outputs": []
    },
    {
      "cell_type": "code",
      "source": [
        "def grades (score) :\n",
        "  if (score >= 90):\n",
        "    return (\"A\")\n",
        "  elif (score >= 85):\n",
        "    return (\"A-\")\n",
        "  elif (score >= 80):\n",
        "    return (\"B+\")\n",
        "  elif (score >= 75):\n",
        "    return (\"B\")\n",
        "  elif (score >= 70):\n",
        "    return (\"B-\")\n",
        "  elif (score >= 65):\n",
        "    return (\"C\")\n",
        "  elif (score >= 60):\n",
        "    return (\"D\")\n",
        "  elif (score >= 11):\n",
        "    return (\"E\")\n",
        "  else : return (\"F\")"
      ],
      "metadata": {
        "id": "IiknIb3nVgMI"
      },
      "execution_count": 6,
      "outputs": []
    },
    {
      "cell_type": "code",
      "source": [
        "def main ():\n",
        "  login()\n",
        "\n",
        "  namasiswa = input(\"Masukkan nama siswa : \")\n",
        "  while True :\n",
        "    nilaiUAS = float (input(\"Masukkan nilai UAS : \"))\n",
        "\n",
        "    if (nilaiUAS >= 0 and nilaiUAS <= 100):\n",
        "      break\n",
        "    else: print (\"Nilai UAS harus antara 0 - 100\")\n",
        "\n",
        "  while True :\n",
        "    nilaiUTS = float (input(\"Masukkan nilai UTS : \"))\n",
        "\n",
        "    if (nilaiUTS >= 0 and nilaiUTS <= 100):\n",
        "      break\n",
        "    else: print (\"Nilai UTS harus antara 0 - 100\")\n",
        "\n",
        "  while True :\n",
        "    nilaiASG = float (input(\"Masukkan nilai Assignment : \"))\n",
        "\n",
        "    if (nilaiASG >= 0 and nilaiASG <= 100):\n",
        "      break\n",
        "    else: print (\"Nilai Assignment harus antara 0 - 100\")\n",
        "\n",
        "  score = nilai(nilaiUAS, nilaiUTS, nilaiASG)\n",
        "  finalgrade = grades(score)\n",
        "\n",
        "  print (\"\\n\\n============================================\")\n",
        "  print (f\"Hasil perolehan nilai {namasiswa}\")\n",
        "  print (f\"Final Score: {score:.1f}\")\n",
        "  print (f\"Grade: {finalgrade}\")\n",
        "  print (\"============================================\")\n"
      ],
      "metadata": {
        "id": "J8DUpy16WXEW"
      },
      "execution_count": 5,
      "outputs": []
    },
    {
      "cell_type": "code",
      "source": [
        "10  if __name__ == \"__main__\":\n",
        "    main()"
      ],
      "metadata": {
        "id": "tzamQvu5XN2W",
        "colab": {
          "base_uri": "https://localhost:8080/"
        },
        "outputId": "073a950f-1052-4f50-f1bb-4eb75f102ee7"
      },
      "execution_count": 9,
      "outputs": [
        {
          "output_type": "stream",
          "name": "stdout",
          "text": [
            "Masukkan username anda : Agnes Giovanny\n",
            "Masukkan password anda : Admin123\n",
            "Login berhasil, Selamat datang Agnes Giovanny \n",
            "\n",
            "Masukkan nama siswa : LAURA\n",
            "Masukkan nilai UAS : 78\n",
            "Masukkan nilai UTS : 105\n",
            "Nilai UTS harus antara 0 - 100\n",
            "Masukkan nilai UTS : 100\n",
            "Masukkan nilai Assignment : 98\n",
            "\n",
            "\n",
            "============================================\n",
            "Hasil perolehan nilai LAURA\n",
            "Final Score: 88.6\n",
            "Grade: A-\n",
            "============================================\n"
          ]
        }
      ]
    }
  ]
}